{
 "cells": [
  {
   "cell_type": "code",
   "execution_count": 14,
   "metadata": {
    "ExecuteTime": {
     "end_time": "2021-01-19T07:13:15.312573Z",
     "start_time": "2021-01-19T07:13:15.307647Z"
    }
   },
   "outputs": [],
   "source": [
    "import numpy as np\n",
    "import pandas as pd\n",
    "\n",
    "from mpl_toolkits import mplot3d\n",
    "import matplotlib.pyplot as plt\n",
    "%matplotlib inline\n",
    "\n",
    "import plotly.express as px\n",
    "import plotly.graph_objects as go\n",
    "\n",
    "from glob import glob\n",
    "import os\n",
    "\n",
    "import re\n",
    "import itertools\n",
    "\n",
    "import subprocess\n",
    "import multiprocessing as mp\n",
    "\n",
    "from sys import argv"
   ]
  },
  {
   "cell_type": "code",
   "execution_count": 15,
   "metadata": {
    "ExecuteTime": {
     "end_time": "2021-01-19T07:13:19.360809Z",
     "start_time": "2021-01-19T07:13:19.355838Z"
    }
   },
   "outputs": [
    {
     "data": {
      "text/plain": [
       "['/Users/braddo/Library/Python/3.9/lib/python/site-packages/ipykernel_launcher.py',\n",
       " '-f',\n",
       " '/Users/braddo/Library/Jupyter/runtime/kernel-befde13b-8bf7-4438-8e41-d9dc9859039d.json']"
      ]
     },
     "execution_count": 15,
     "metadata": {},
     "output_type": "execute_result"
    }
   ],
   "source": [
    "argv"
   ]
  },
  {
   "cell_type": "code",
   "execution_count": 3,
   "metadata": {
    "ExecuteTime": {
     "end_time": "2021-01-19T07:10:10.955090Z",
     "start_time": "2021-01-19T07:10:10.952680Z"
    }
   },
   "outputs": [],
   "source": [
    "os.chdir('~/Projects/solar_pv_research/Robust_Sizing')"
   ]
  },
  {
   "cell_type": "code",
   "execution_count": 4,
   "metadata": {
    "ExecuteTime": {
     "end_time": "2021-01-19T07:10:11.173433Z",
     "start_time": "2021-01-19T07:10:11.170229Z"
    }
   },
   "outputs": [],
   "source": [
    "load_paths = sorted(glob('example_inputs/pecan/normed/load_[0-9]*'))\n",
    "pv_paths = ['example_inputs/pecan/normed/PV_7989.txt',\n",
    "            'example_inputs/pecan/normed/PV_6423.txt']"
   ]
  },
  {
   "cell_type": "code",
   "execution_count": 5,
   "metadata": {
    "ExecuteTime": {
     "end_time": "2021-01-19T07:10:11.371880Z",
     "start_time": "2021-01-19T07:10:11.367568Z"
    }
   },
   "outputs": [],
   "source": [
    "load_ids = [re.search(r\"example_inputs/pecan/normed/load_([0-9]+).txt\", path).group(1) for path in load_paths]\n",
    "pv_ids = [re.search(r\"example_inputs/pecan/normed/PV_([0-9]+).txt\", path).group(1) for path in pv_paths]"
   ]
  },
  {
   "cell_type": "code",
   "execution_count": 6,
   "metadata": {
    "ExecuteTime": {
     "end_time": "2021-01-19T07:10:11.774502Z",
     "start_time": "2021-01-19T07:10:11.771626Z"
    }
   },
   "outputs": [],
   "source": [
    "# confs = [0.75, 0.95]\n",
    "# epsilons = [0.1, 0.5]\n",
    "\n",
    "confs = [0.05, 0.1]\n",
    "epsilons = [0.1, 0.5]\n",
    "loads = list(zip(load_ids, load_paths))[:2]"
   ]
  },
  {
   "cell_type": "code",
   "execution_count": 7,
   "metadata": {
    "ExecuteTime": {
     "end_time": "2021-01-19T07:10:12.490635Z",
     "start_time": "2021-01-19T07:10:12.486400Z"
    }
   },
   "outputs": [],
   "source": [
    "param_binary = 'cmake-build-debug/run_multiroof_test'\n",
    "param_n_solars = len(pv_paths)\n",
    "param_metric = 1 # 1=EUE, 0=LOLP\n",
    "param_days_in_chunk = 365\n",
    "param_battery_varcost = 500\n",
    "param_battery_max = 60\n",
    "param_pv_fixcost = 2000\n",
    "param_pv_varcost = 500\n",
    "param_pv_max = 30\n",
    "\n",
    "load_pv_ids = f'load=%s_pv={\" \".join(pv_ids)}'\n",
    "pv_command = \" \".join(f'{param_pv_fixcost} {param_pv_varcost} {param_pv_max} {pv_path}' for pv_path in pv_paths)\n",
    "\n",
    "commands = [\n",
    "    f'{param_binary} \"{load_pv_ids % load_id}\" {param_n_solars} {param_metric} {epsilon} {conf} {param_days_in_chunk} {param_battery_varcost} {param_battery_max} {load_path} {pv_command}' \\\n",
    "    for (load_id, load_path), conf, epsilon in itertools.product(loads, confs, epsilons)\n",
    "]"
   ]
  },
  {
   "cell_type": "code",
   "execution_count": 13,
   "metadata": {
    "ExecuteTime": {
     "end_time": "2021-01-19T07:10:59.232594Z",
     "start_time": "2021-01-19T07:10:59.229766Z"
    }
   },
   "outputs": [
    {
     "name": "stdout",
     "output_type": "stream",
     "text": [
      "Load IDs being run:\n",
      "4357\t5129\t8419\t8197\t8626\t2337\t890\t7850\t8236\t5738\t6423\t7739\t114\t3367\t5892\t6578\t4526\t171\t5439\t2814\t7788\t370\t7429\t6121\t7940\t2018\t8084\t1103\t5615\t2980\t2638\t3527\t7741\t8317\t5545\t3134\t6266\t2986\t744\t3482\t7989\t2199\t5796\t545\t5874\t1192\t9647\t9121\t252\t1792\t2072\t1169\n"
     ]
    }
   ],
   "source": [
    "print('Load IDs being run:')\n",
    "print('\\t'.join(load_ids))\n",
    "\n",
    "print('Confidence Intervals:')\n",
    "print('\\t'.join(confs))"
   ]
  },
  {
   "cell_type": "code",
   "execution_count": 7,
   "metadata": {
    "ExecuteTime": {
     "end_time": "2021-01-19T07:04:37.280059Z",
     "start_time": "2021-01-19T07:04:37.274943Z"
    }
   },
   "outputs": [
    {
     "data": {
      "text/plain": [
       "['cmake-build-debug/run_multiroof_test \"load=4357_pv=7989 6423\" 2 1 0.1 0.05 365 500 60 example_inputs/pecan/normed/load_4357.txt 2000 500 30 example_inputs/pecan/normed/PV_7989.txt 2000 500 30 example_inputs/pecan/normed/PV_6423.txt',\n",
       " 'cmake-build-debug/run_multiroof_test \"load=4357_pv=7989 6423\" 2 1 0.5 0.05 365 500 60 example_inputs/pecan/normed/load_4357.txt 2000 500 30 example_inputs/pecan/normed/PV_7989.txt 2000 500 30 example_inputs/pecan/normed/PV_6423.txt',\n",
       " 'cmake-build-debug/run_multiroof_test \"load=4357_pv=7989 6423\" 2 1 0.1 0.1 365 500 60 example_inputs/pecan/normed/load_4357.txt 2000 500 30 example_inputs/pecan/normed/PV_7989.txt 2000 500 30 example_inputs/pecan/normed/PV_6423.txt',\n",
       " 'cmake-build-debug/run_multiroof_test \"load=4357_pv=7989 6423\" 2 1 0.5 0.1 365 500 60 example_inputs/pecan/normed/load_4357.txt 2000 500 30 example_inputs/pecan/normed/PV_7989.txt 2000 500 30 example_inputs/pecan/normed/PV_6423.txt',\n",
       " 'cmake-build-debug/run_multiroof_test \"load=5129_pv=7989 6423\" 2 1 0.1 0.05 365 500 60 example_inputs/pecan/normed/load_5129.txt 2000 500 30 example_inputs/pecan/normed/PV_7989.txt 2000 500 30 example_inputs/pecan/normed/PV_6423.txt',\n",
       " 'cmake-build-debug/run_multiroof_test \"load=5129_pv=7989 6423\" 2 1 0.5 0.05 365 500 60 example_inputs/pecan/normed/load_5129.txt 2000 500 30 example_inputs/pecan/normed/PV_7989.txt 2000 500 30 example_inputs/pecan/normed/PV_6423.txt',\n",
       " 'cmake-build-debug/run_multiroof_test \"load=5129_pv=7989 6423\" 2 1 0.1 0.1 365 500 60 example_inputs/pecan/normed/load_5129.txt 2000 500 30 example_inputs/pecan/normed/PV_7989.txt 2000 500 30 example_inputs/pecan/normed/PV_6423.txt',\n",
       " 'cmake-build-debug/run_multiroof_test \"load=5129_pv=7989 6423\" 2 1 0.5 0.1 365 500 60 example_inputs/pecan/normed/load_5129.txt 2000 500 30 example_inputs/pecan/normed/PV_7989.txt 2000 500 30 example_inputs/pecan/normed/PV_6423.txt']"
      ]
     },
     "execution_count": 7,
     "metadata": {},
     "output_type": "execute_result"
    }
   ],
   "source": [
    "commands"
   ]
  },
  {
   "cell_type": "code",
   "execution_count": 8,
   "metadata": {
    "ExecuteTime": {
     "end_time": "2021-01-19T07:04:38.533158Z",
     "start_time": "2021-01-19T07:04:38.530480Z"
    }
   },
   "outputs": [],
   "source": [
    "def run_command(cmd):\n",
    "    result = subprocess.check_output(cmd, shell=True)\n",
    "    return result.decode()"
   ]
  },
  {
   "cell_type": "code",
   "execution_count": 9,
   "metadata": {
    "ExecuteTime": {
     "end_time": "2021-01-19T07:05:13.819610Z",
     "start_time": "2021-01-19T07:05:13.817117Z"
    }
   },
   "outputs": [],
   "source": [
    "def square(x):\n",
    "    return x * x"
   ]
  },
  {
   "cell_type": "code",
   "execution_count": 10,
   "metadata": {
    "ExecuteTime": {
     "end_time": "2021-01-19T07:06:36.109606Z",
     "start_time": "2021-01-19T07:05:25.451614Z"
    }
   },
   "outputs": [
    {
     "ename": "KeyboardInterrupt",
     "evalue": "",
     "output_type": "error",
     "traceback": [
      "\u001b[0;31m---------------------------------------------------------------------------\u001b[0m",
      "\u001b[0;31mKeyboardInterrupt\u001b[0m                         Traceback (most recent call last)",
      "\u001b[0;32m<ipython-input-10-a3f04372350b>\u001b[0m in \u001b[0;36m<module>\u001b[0;34m\u001b[0m\n\u001b[1;32m      1\u001b[0m \u001b[0mpool\u001b[0m \u001b[0;34m=\u001b[0m \u001b[0mmp\u001b[0m\u001b[0;34m.\u001b[0m\u001b[0mPool\u001b[0m\u001b[0;34m(\u001b[0m\u001b[0;34m)\u001b[0m\u001b[0;34m\u001b[0m\u001b[0;34m\u001b[0m\u001b[0m\n\u001b[0;32m----> 2\u001b[0;31m \u001b[0mresults\u001b[0m \u001b[0;34m=\u001b[0m \u001b[0mpool\u001b[0m\u001b[0;34m.\u001b[0m\u001b[0mmap\u001b[0m\u001b[0;34m(\u001b[0m\u001b[0msquare\u001b[0m\u001b[0;34m,\u001b[0m \u001b[0;34m[\u001b[0m\u001b[0;36m1\u001b[0m\u001b[0;34m,\u001b[0m\u001b[0;36m2\u001b[0m\u001b[0;34m,\u001b[0m\u001b[0;36m3\u001b[0m\u001b[0;34m,\u001b[0m\u001b[0;36m4\u001b[0m\u001b[0;34m]\u001b[0m\u001b[0;34m)\u001b[0m\u001b[0;34m\u001b[0m\u001b[0;34m\u001b[0m\u001b[0m\n\u001b[0m\u001b[1;32m      3\u001b[0m \u001b[0;31m# results = pool.map(run_command, ['ls -l', 'ls -a'])\u001b[0m\u001b[0;34m\u001b[0m\u001b[0;34m\u001b[0m\u001b[0;34m\u001b[0m\u001b[0m\n\u001b[1;32m      4\u001b[0m \u001b[0mpool\u001b[0m\u001b[0;34m.\u001b[0m\u001b[0mclose\u001b[0m\u001b[0;34m(\u001b[0m\u001b[0;34m)\u001b[0m\u001b[0;34m\u001b[0m\u001b[0;34m\u001b[0m\u001b[0m\n\u001b[1;32m      5\u001b[0m \u001b[0mpool\u001b[0m\u001b[0;34m.\u001b[0m\u001b[0mjoin\u001b[0m\u001b[0;34m(\u001b[0m\u001b[0;34m)\u001b[0m\u001b[0;34m\u001b[0m\u001b[0;34m\u001b[0m\u001b[0m\n",
      "\u001b[0;32m/usr/local/Cellar/python@3.9/3.9.1_6/Frameworks/Python.framework/Versions/3.9/lib/python3.9/multiprocessing/pool.py\u001b[0m in \u001b[0;36mmap\u001b[0;34m(self, func, iterable, chunksize)\u001b[0m\n\u001b[1;32m    362\u001b[0m         \u001b[0;32min\u001b[0m \u001b[0ma\u001b[0m \u001b[0mlist\u001b[0m \u001b[0mthat\u001b[0m \u001b[0;32mis\u001b[0m \u001b[0mreturned\u001b[0m\u001b[0;34m.\u001b[0m\u001b[0;34m\u001b[0m\u001b[0;34m\u001b[0m\u001b[0m\n\u001b[1;32m    363\u001b[0m         '''\n\u001b[0;32m--> 364\u001b[0;31m         \u001b[0;32mreturn\u001b[0m \u001b[0mself\u001b[0m\u001b[0;34m.\u001b[0m\u001b[0m_map_async\u001b[0m\u001b[0;34m(\u001b[0m\u001b[0mfunc\u001b[0m\u001b[0;34m,\u001b[0m \u001b[0miterable\u001b[0m\u001b[0;34m,\u001b[0m \u001b[0mmapstar\u001b[0m\u001b[0;34m,\u001b[0m \u001b[0mchunksize\u001b[0m\u001b[0;34m)\u001b[0m\u001b[0;34m.\u001b[0m\u001b[0mget\u001b[0m\u001b[0;34m(\u001b[0m\u001b[0;34m)\u001b[0m\u001b[0;34m\u001b[0m\u001b[0;34m\u001b[0m\u001b[0m\n\u001b[0m\u001b[1;32m    365\u001b[0m \u001b[0;34m\u001b[0m\u001b[0m\n\u001b[1;32m    366\u001b[0m     \u001b[0;32mdef\u001b[0m \u001b[0mstarmap\u001b[0m\u001b[0;34m(\u001b[0m\u001b[0mself\u001b[0m\u001b[0;34m,\u001b[0m \u001b[0mfunc\u001b[0m\u001b[0;34m,\u001b[0m \u001b[0miterable\u001b[0m\u001b[0;34m,\u001b[0m \u001b[0mchunksize\u001b[0m\u001b[0;34m=\u001b[0m\u001b[0;32mNone\u001b[0m\u001b[0;34m)\u001b[0m\u001b[0;34m:\u001b[0m\u001b[0;34m\u001b[0m\u001b[0;34m\u001b[0m\u001b[0m\n",
      "\u001b[0;32m/usr/local/Cellar/python@3.9/3.9.1_6/Frameworks/Python.framework/Versions/3.9/lib/python3.9/multiprocessing/pool.py\u001b[0m in \u001b[0;36mget\u001b[0;34m(self, timeout)\u001b[0m\n\u001b[1;32m    763\u001b[0m \u001b[0;34m\u001b[0m\u001b[0m\n\u001b[1;32m    764\u001b[0m     \u001b[0;32mdef\u001b[0m \u001b[0mget\u001b[0m\u001b[0;34m(\u001b[0m\u001b[0mself\u001b[0m\u001b[0;34m,\u001b[0m \u001b[0mtimeout\u001b[0m\u001b[0;34m=\u001b[0m\u001b[0;32mNone\u001b[0m\u001b[0;34m)\u001b[0m\u001b[0;34m:\u001b[0m\u001b[0;34m\u001b[0m\u001b[0;34m\u001b[0m\u001b[0m\n\u001b[0;32m--> 765\u001b[0;31m         \u001b[0mself\u001b[0m\u001b[0;34m.\u001b[0m\u001b[0mwait\u001b[0m\u001b[0;34m(\u001b[0m\u001b[0mtimeout\u001b[0m\u001b[0;34m)\u001b[0m\u001b[0;34m\u001b[0m\u001b[0;34m\u001b[0m\u001b[0m\n\u001b[0m\u001b[1;32m    766\u001b[0m         \u001b[0;32mif\u001b[0m \u001b[0;32mnot\u001b[0m \u001b[0mself\u001b[0m\u001b[0;34m.\u001b[0m\u001b[0mready\u001b[0m\u001b[0;34m(\u001b[0m\u001b[0;34m)\u001b[0m\u001b[0;34m:\u001b[0m\u001b[0;34m\u001b[0m\u001b[0;34m\u001b[0m\u001b[0m\n\u001b[1;32m    767\u001b[0m             \u001b[0;32mraise\u001b[0m \u001b[0mTimeoutError\u001b[0m\u001b[0;34m\u001b[0m\u001b[0;34m\u001b[0m\u001b[0m\n",
      "\u001b[0;32m/usr/local/Cellar/python@3.9/3.9.1_6/Frameworks/Python.framework/Versions/3.9/lib/python3.9/multiprocessing/pool.py\u001b[0m in \u001b[0;36mwait\u001b[0;34m(self, timeout)\u001b[0m\n\u001b[1;32m    760\u001b[0m \u001b[0;34m\u001b[0m\u001b[0m\n\u001b[1;32m    761\u001b[0m     \u001b[0;32mdef\u001b[0m \u001b[0mwait\u001b[0m\u001b[0;34m(\u001b[0m\u001b[0mself\u001b[0m\u001b[0;34m,\u001b[0m \u001b[0mtimeout\u001b[0m\u001b[0;34m=\u001b[0m\u001b[0;32mNone\u001b[0m\u001b[0;34m)\u001b[0m\u001b[0;34m:\u001b[0m\u001b[0;34m\u001b[0m\u001b[0;34m\u001b[0m\u001b[0m\n\u001b[0;32m--> 762\u001b[0;31m         \u001b[0mself\u001b[0m\u001b[0;34m.\u001b[0m\u001b[0m_event\u001b[0m\u001b[0;34m.\u001b[0m\u001b[0mwait\u001b[0m\u001b[0;34m(\u001b[0m\u001b[0mtimeout\u001b[0m\u001b[0;34m)\u001b[0m\u001b[0;34m\u001b[0m\u001b[0;34m\u001b[0m\u001b[0m\n\u001b[0m\u001b[1;32m    763\u001b[0m \u001b[0;34m\u001b[0m\u001b[0m\n\u001b[1;32m    764\u001b[0m     \u001b[0;32mdef\u001b[0m \u001b[0mget\u001b[0m\u001b[0;34m(\u001b[0m\u001b[0mself\u001b[0m\u001b[0;34m,\u001b[0m \u001b[0mtimeout\u001b[0m\u001b[0;34m=\u001b[0m\u001b[0;32mNone\u001b[0m\u001b[0;34m)\u001b[0m\u001b[0;34m:\u001b[0m\u001b[0;34m\u001b[0m\u001b[0;34m\u001b[0m\u001b[0m\n",
      "\u001b[0;32m/usr/local/Cellar/python@3.9/3.9.1_6/Frameworks/Python.framework/Versions/3.9/lib/python3.9/threading.py\u001b[0m in \u001b[0;36mwait\u001b[0;34m(self, timeout)\u001b[0m\n\u001b[1;32m    572\u001b[0m             \u001b[0msignaled\u001b[0m \u001b[0;34m=\u001b[0m \u001b[0mself\u001b[0m\u001b[0;34m.\u001b[0m\u001b[0m_flag\u001b[0m\u001b[0;34m\u001b[0m\u001b[0;34m\u001b[0m\u001b[0m\n\u001b[1;32m    573\u001b[0m             \u001b[0;32mif\u001b[0m \u001b[0;32mnot\u001b[0m \u001b[0msignaled\u001b[0m\u001b[0;34m:\u001b[0m\u001b[0;34m\u001b[0m\u001b[0;34m\u001b[0m\u001b[0m\n\u001b[0;32m--> 574\u001b[0;31m                 \u001b[0msignaled\u001b[0m \u001b[0;34m=\u001b[0m \u001b[0mself\u001b[0m\u001b[0;34m.\u001b[0m\u001b[0m_cond\u001b[0m\u001b[0;34m.\u001b[0m\u001b[0mwait\u001b[0m\u001b[0;34m(\u001b[0m\u001b[0mtimeout\u001b[0m\u001b[0;34m)\u001b[0m\u001b[0;34m\u001b[0m\u001b[0;34m\u001b[0m\u001b[0m\n\u001b[0m\u001b[1;32m    575\u001b[0m             \u001b[0;32mreturn\u001b[0m \u001b[0msignaled\u001b[0m\u001b[0;34m\u001b[0m\u001b[0;34m\u001b[0m\u001b[0m\n\u001b[1;32m    576\u001b[0m \u001b[0;34m\u001b[0m\u001b[0m\n",
      "\u001b[0;32m/usr/local/Cellar/python@3.9/3.9.1_6/Frameworks/Python.framework/Versions/3.9/lib/python3.9/threading.py\u001b[0m in \u001b[0;36mwait\u001b[0;34m(self, timeout)\u001b[0m\n\u001b[1;32m    310\u001b[0m         \u001b[0;32mtry\u001b[0m\u001b[0;34m:\u001b[0m    \u001b[0;31m# restore state no matter what (e.g., KeyboardInterrupt)\u001b[0m\u001b[0;34m\u001b[0m\u001b[0;34m\u001b[0m\u001b[0m\n\u001b[1;32m    311\u001b[0m             \u001b[0;32mif\u001b[0m \u001b[0mtimeout\u001b[0m \u001b[0;32mis\u001b[0m \u001b[0;32mNone\u001b[0m\u001b[0;34m:\u001b[0m\u001b[0;34m\u001b[0m\u001b[0;34m\u001b[0m\u001b[0m\n\u001b[0;32m--> 312\u001b[0;31m                 \u001b[0mwaiter\u001b[0m\u001b[0;34m.\u001b[0m\u001b[0macquire\u001b[0m\u001b[0;34m(\u001b[0m\u001b[0;34m)\u001b[0m\u001b[0;34m\u001b[0m\u001b[0;34m\u001b[0m\u001b[0m\n\u001b[0m\u001b[1;32m    313\u001b[0m                 \u001b[0mgotit\u001b[0m \u001b[0;34m=\u001b[0m \u001b[0;32mTrue\u001b[0m\u001b[0;34m\u001b[0m\u001b[0;34m\u001b[0m\u001b[0m\n\u001b[1;32m    314\u001b[0m             \u001b[0;32melse\u001b[0m\u001b[0;34m:\u001b[0m\u001b[0;34m\u001b[0m\u001b[0;34m\u001b[0m\u001b[0m\n",
      "\u001b[0;31mKeyboardInterrupt\u001b[0m: "
     ]
    }
   ],
   "source": [
    "pool = mp.Pool()\n",
    "results = pool.map(square, [1,2,3,4])\n",
    "# results = pool.map(run_command, ['ls -l', 'ls -a'])\n",
    "pool.close()\n",
    "pool.join()"
   ]
  },
  {
   "cell_type": "code",
   "execution_count": null,
   "metadata": {
    "ExecuteTime": {
     "end_time": "2021-01-19T06:59:04.337736Z",
     "start_time": "2021-01-19T06:58:58.407Z"
    }
   },
   "outputs": [],
   "source": [
    "results"
   ]
  }
 ],
 "metadata": {
  "kernelspec": {
   "display_name": "Python 3",
   "language": "python",
   "name": "python3"
  },
  "language_info": {
   "codemirror_mode": {
    "name": "ipython",
    "version": 3
   },
   "file_extension": ".py",
   "mimetype": "text/x-python",
   "name": "python",
   "nbconvert_exporter": "python",
   "pygments_lexer": "ipython3",
   "version": "3.9.1"
  }
 },
 "nbformat": 4,
 "nbformat_minor": 4
}
